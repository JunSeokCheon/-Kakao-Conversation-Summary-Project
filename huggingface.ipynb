{
 "cells": [
  {
   "cell_type": "markdown",
   "metadata": {},
   "source": [
    "# Huggingface 데이터 셋 다운로드 방법(코드, cli 명령어)"
   ]
  },
  {
   "cell_type": "markdown",
   "metadata": {},
   "source": [
    "파일 1개 다운로드"
   ]
  },
  {
   "cell_type": "code",
   "execution_count": 1,
   "metadata": {},
   "outputs": [
    {
     "name": "stderr",
     "output_type": "stream",
     "text": [
      "c:\\Users\\tlsdy\\anaconda3\\envs\\kakao-summary\\lib\\site-packages\\tqdm\\auto.py:21: TqdmWarning: IProgress not found. Please update jupyter and ipywidgets. See https://ipywidgets.readthedocs.io/en/stable/user_install.html\n",
      "  from .autonotebook import tqdm as notebook_tqdm\n",
      "c:\\Users\\tlsdy\\anaconda3\\envs\\kakao-summary\\lib\\site-packages\\huggingface_hub\\file_download.py:834: UserWarning: `local_dir_use_symlinks` parameter is deprecated and will be ignored. The process to download files to a local folder has been updated and do not rely on symlinks anymore. You only need to pass a destination folder as`local_dir`.\n",
      "For more details, check out https://huggingface.co/docs/huggingface_hub/main/en/guides/download#download-files-to-local-folder.\n",
      "  warnings.warn(\n"
     ]
    },
    {
     "data": {
      "text/plain": [
       "'res\\\\ko_dataset\\\\ko_dataset.json'"
      ]
     },
     "execution_count": 1,
     "metadata": {},
     "output_type": "execute_result"
    }
   ],
   "source": [
    "from huggingface_hub import hf_hub_download\n",
    "\n",
    "hf_hub_download(\n",
    "    repo_id=\"junelee/sharegpt_deepl_ko\",\n",
    "    filename=\"ko_dataset.json\",\n",
    "    # repo_type을 명시하지 않으면 모델 자동 저장\n",
    "    repo_type=\"dataset\",\n",
    "    # local 저장 위치 지정\n",
    "    local_dir=\"./res/ko_dataset\",\n",
    "    # local_dir로 저장하고 싶으면 False, 그렇지 않으면 로컬의 잘 보이지 않은 곳에 자동 저장\n",
    "    local_dir_use_symlinks=False\n",
    ")"
   ]
  },
  {
   "cell_type": "markdown",
   "metadata": {},
   "source": [
    "파일 전체 다운로드"
   ]
  },
  {
   "cell_type": "code",
   "execution_count": null,
   "metadata": {},
   "outputs": [],
   "source": [
    "from huggingface_hub import snapshot_download\n",
    "\n",
    "snapshot_download(\n",
    "    repo_id=\"junelee/sharegpt_deepl_ko\",\n",
    "    repo_type=\"dataset\",\n",
    "    local_dir=\"./res/ko_dataset\",\n",
    "    local_dir_use_symlinks=False\n",
    ")"
   ]
  },
  {
   "cell_type": "markdown",
   "metadata": {},
   "source": [
    "CLI에서 데이터셋 다운로드"
   ]
  },
  {
   "cell_type": "code",
   "execution_count": null,
   "metadata": {},
   "outputs": [],
   "source": [
    "# huggingface-cli download 레포명 [다운로드 파일명 - 기본 전체 파일] [레포 타입 - 기본 모델]\n",
    "!huggingface-cli download junelee/sharegpt_deepl_ko ko_dataset.json --repo-type dataset"
   ]
  }
 ],
 "metadata": {
  "kernelspec": {
   "display_name": "kakao-summary",
   "language": "python",
   "name": "python3"
  },
  "language_info": {
   "codemirror_mode": {
    "name": "ipython",
    "version": 3
   },
   "file_extension": ".py",
   "mimetype": "text/x-python",
   "name": "python",
   "nbconvert_exporter": "python",
   "pygments_lexer": "ipython3",
   "version": "3.10.12"
  }
 },
 "nbformat": 4,
 "nbformat_minor": 2
}
