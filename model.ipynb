{
 "cells": [
  {
   "cell_type": "markdown",
   "metadata": {},
   "source": [
    "## 모델 고도화\n",
    "- Few-Shot Prompting\n",
    "- Chain-of-Thought Prompting"
   ]
  },
  {
   "cell_type": "code",
   "execution_count": 1,
   "metadata": {},
   "outputs": [],
   "source": [
    "import math\n",
    "import re\n",
    "\n",
    "from tqdm.notebook import tqdm\n",
    "\n",
    "from eval import get_eval_data, pointwise_eval\n",
    "from utils import summarize, get_train_data"
   ]
  },
  {
   "cell_type": "code",
   "execution_count": 2,
   "metadata": {},
   "outputs": [],
   "source": [
    "PROMPT_BASELINE = f\"\"\"아래 사용자 대화에 대해 3문장 내로 요약해주세요:\"\"\""
   ]
  },
  {
   "cell_type": "markdown",
   "metadata": {},
   "source": [
    "Get Train Data"
   ]
  },
  {
   "cell_type": "code",
   "execution_count": 3,
   "metadata": {},
   "outputs": [
    {
     "name": "stdout",
     "output_type": "stream",
     "text": [
      "P01: 너 스키장 가본 적 있어?/nP02: 아니 ㅠㅠ 가보고 싶은데 기회가 안돼서 가본 적이 없어/nP02: 너는?/nP01: 나도 없어/nP01: 근데 이번 겨울엔 꼭 가기로 하긴 했지만 ㅜㅜ/nP01: 근데 좀 부끄러울듯 키키/nP02: 너는 뭔가 잘 탈 것 같은데?/nP02: 왜 부끄러워?/nP01: 잘 못타고 계속 넘어질까봐 키키/nP01: 금잔디 *** 같이 탈까봐/nP02: 그건 로보트 아니야?/nP02: ***보단 잘 탈듯/nP01: ㅇㅈ 난 보드는 발에 족쇄찬 느낌일거 같고 스키 배워볼거야/nP01: 넌?/nP02: 근자감인가?/nP02: 나는 잘 탈 것 같은데?/nP01: ^^ 대단한걸~?/nP01: 근데 수영처럼 에너지 소모 커서 컵라면 꿀맛일듯/nP02: 너도 알구나?/nP02: 수영 후 먹는 컵라면이 세상에서 제일 맛있는듯/nP01: 맞어 그리고 바다에서 놀고 나서 먹는 뽕따 진리지/nP02: 뽕따? 그것도 국룰이야?/nP02: 처음 알았네 키키/nP01: 키키 나만의 룰이였나봐/nP01: 근데 나 어릴 때 어린이스포츠 수영 다녀서 살빼려 했는데 더 먹어서 더 쪄썽/nP02: 키키 수영 에너지 소모가 크니까 더 먹게 되는 것 같아 키키/nP02: 나도 그랬음 키키/nP02: 나는 수영 끝나면 맨날 그 옆 매점에서 제일 저렴한 도시락 컵라면 먹은 기억 있어/nP01: 키키 도시락 추억이다/nP01: 난 러시아에서 그거에 마요네즈 뿌려먹는다길래 궁금해서 대학생 때 첨 먹어봄/nP02: 예? 도시락에 마요네즈요?/nP02: 맛 어땠어? 이상할 것 같은데\n"
     ]
    }
   ],
   "source": [
    "conv_train = get_train_data()[18]\n",
    "print(conv_train)"
   ]
  },
  {
   "cell_type": "markdown",
   "metadata": {},
   "source": [
    "Few-Shot"
   ]
  },
  {
   "cell_type": "code",
   "execution_count": 4,
   "metadata": {},
   "outputs": [],
   "source": [
    "summary_sample = \"\"\"P01과 P02는 스키장 경험이 없지만, P01은 이번 겨울 스키 도전을 계획 중이며 넘어질까 걱정한다.\n",
    "수영 후 컵라면과 바다에서 뽕따 먹는 추억에 공감하며 어릴 때의 운동과 식습관 이야기를 나눈다.\n",
    "P01은 대학생 때 러시아 스타일로 도시락에 마요네즈를 뿌려 먹어본 독특한 경험을 공유한다.\"\"\"\n",
    "\n",
    "prompt = f\"\"\"당신은 요약 전문가입니다. 사용자 대화들이 주어졌을 때 요약하는 것이 당신의 목표입니다. 다음은 사용자 대화와 요약 예시입니다.\n",
    "예시 대화:\n",
    "{conv_train}\n",
    "예시 요약 결과:\n",
    "{summary_sample}\n",
    "    \n",
    "아래 사용자 대화에 대해 3문장 내로 요약해주세요:\"\"\""
   ]
  },
  {
   "cell_type": "code",
   "execution_count": null,
   "metadata": {},
   "outputs": [
    {
     "data": {
      "application/vnd.jupyter.widget-view+json": {
       "model_id": "1e337207a7ea4888a0fdc6a3918c1d68",
       "version_major": 2,
       "version_minor": 0
      },
      "text/plain": [
       "  0%|          | 0/5 [00:00<?, ?it/s]"
      ]
     },
     "metadata": {},
     "output_type": "display_data"
    },
    {
     "data": {
      "application/vnd.jupyter.widget-view+json": {
       "model_id": "816f0b6d7fad4ff8bd374ed62e419cea",
       "version_major": 2,
       "version_minor": 0
      },
      "text/plain": [
       "  0%|          | 0/5 [00:00<?, ?it/s]"
      ]
     },
     "metadata": {},
     "output_type": "display_data"
    }
   ],
   "source": [
    "models = [\n",
    "    'claude-3-haiku-20240307',\n",
    "    'gemini-1.5-flash',\n",
    "    'gpt-3.5-turbo-0125'\n",
    "]\n",
    "\n",
    "scores = {model: [] for model in models}\n",
    "pattern = r'\\[\\[\\d+\\]\\]'\n",
    "\n",
    "for model in models:\n",
    "    for i in tqdm(range(5)):\n",
    "        summary = summarize(\n",
    "            conversation=get_eval_data()[i],\n",
    "            prompt=prompt,\n",
    "            model=model\n",
    "        )\n",
    "        eval_comment = pointwise_eval(get_eval_data()[i], summary)\n",
    "        match = re.search(pattern, eval_comment)\n",
    "        matched_string = match.group(0)\n",
    "        score = int(matched_string[2])\n",
    "        scores[model].append(score)"
   ]
  },
  {
   "cell_type": "code",
   "execution_count": null,
   "metadata": {},
   "outputs": [],
   "source": [
    "for model in scores:\n",
    "    print(scores[model], model)"
   ]
  },
  {
   "cell_type": "markdown",
   "metadata": {},
   "source": [
    "Chain-of-thought"
   ]
  },
  {
   "cell_type": "code",
   "execution_count": null,
   "metadata": {},
   "outputs": [],
   "source": []
  }
 ],
 "metadata": {
  "kernelspec": {
   "display_name": "kakao-summary",
   "language": "python",
   "name": "python3"
  },
  "language_info": {
   "codemirror_mode": {
    "name": "ipython",
    "version": 3
   },
   "file_extension": ".py",
   "mimetype": "text/x-python",
   "name": "python",
   "nbconvert_exporter": "python",
   "pygments_lexer": "ipython3",
   "version": "3.10.12"
  }
 },
 "nbformat": 4,
 "nbformat_minor": 2
}
