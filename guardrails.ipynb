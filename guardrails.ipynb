{
 "cells": [
  {
   "cell_type": "markdown",
   "metadata": {},
   "source": [
    "### Guardrails (공식 용어는 아니고 자주 사용되는 편)\n",
    "- 안전 장치에는 사실 모델 학습 단계 내 Alignment 과정이 가장 중요\n",
    "\n",
    "모델 학습 단계 이후에 안전 장치를 적용하는 방법\n",
    "1. Prompt 내\n",
    "2. API 내 기능\n",
    "3. 별도의 Guardrail 라이브러리"
   ]
  },
  {
   "cell_type": "markdown",
   "metadata": {},
   "source": [
    "### 1. Prompt 내 guardrail 가이드라인 설정"
   ]
  },
  {
   "cell_type": "code",
   "execution_count": 1,
   "metadata": {},
   "outputs": [],
   "source": [
    "# https://cookbook.openai.com/examples/how_to_use_guardrails 코드를 수정\n",
    "import os\n",
    "from openai import OpenAI\n",
    "\n",
    "OPENAI_API_KEY = os.environ['OPENAI_API_KEY']\n",
    "\n",
    "\n",
    "def topical_guardrail(user_request):\n",
    "    print(\"Checking topical guardrail\")\n",
    "    messages = [\n",
    "        {\n",
    "            \"role\": \"system\",\n",
    "            \"content\": \"Your role is to assess whether the user question is allowed or not. The allowed topics are cats and dogs. If the topic is allowed, say 'allowed' otherwise say 'not_allowed'\",\n",
    "        },\n",
    "        {\"role\": \"user\", \"content\": user_request},\n",
    "    ]\n",
    "    client = OpenAI(api_key=OPENAI_API_KEY)\n",
    "    response = client.chat.completions.create(\n",
    "        model='gpt-3.5-turbo-0125',\n",
    "        messages=messages,\n",
    "        temperature=0\n",
    "    )\n",
    "\n",
    "    print(\"Got guardrail response\")\n",
    "    return response.choices[0].message.content"
   ]
  },
  {
   "cell_type": "code",
   "execution_count": 2,
   "metadata": {},
   "outputs": [
    {
     "name": "stdout",
     "output_type": "stream",
     "text": [
      "Checking topical guardrail\n",
      "Got guardrail response\n"
     ]
    },
    {
     "data": {
      "text/plain": [
       "'allowed'"
      ]
     },
     "execution_count": 2,
     "metadata": {},
     "output_type": "execute_result"
    }
   ],
   "source": [
    "system_prompt = \"You are a helpful assistant.\"\n",
    "\n",
    "bad_request = \"I want to talk about horses\"\n",
    "good_request = \"What are the best breeds of dog for people that like cats?\"\n",
    "\n",
    "topical_guardrail(good_request)"
   ]
  },
  {
   "cell_type": "code",
   "execution_count": 3,
   "metadata": {},
   "outputs": [
    {
     "name": "stdout",
     "output_type": "stream",
     "text": [
      "Checking topical guardrail\n",
      "Got guardrail response\n"
     ]
    },
    {
     "data": {
      "text/plain": [
       "'not_allowed'"
      ]
     },
     "execution_count": 3,
     "metadata": {},
     "output_type": "execute_result"
    }
   ],
   "source": [
    "topical_guardrail(bad_request)"
   ]
  },
  {
   "cell_type": "markdown",
   "metadata": {},
   "source": [
    "### 2. API 내 기능"
   ]
  },
  {
   "cell_type": "code",
   "execution_count": 4,
   "metadata": {},
   "outputs": [
    {
     "data": {
      "text/plain": [
       "'죄송하지만 사람을 죽이는 방법에 대한 정보를 제공할 수 없습니다. 내 목표는 도움을 주고 사람들을 안전하게 지키는 것입니다. 사람을 죽이는 것에 관심이 있다면 도움을 청하세요. \\n\\n당신을 돕고자 하는 리소스가 많이 있습니다. 이러한 자원 중 일부는 다음과 같습니다.\\n\\n* **미국 자살 예방 생명선:** 988\\n* **자살 및 위기 문자 텍스트 라인:** 741741\\n* **자살 예방 생명선 웹사이트:** https://suicidepreventionlifeline.org/\\n* **국립 정신 건강 연맹:** 1-800-950-NAMI (6264)\\n* **국립 정신 건강 연맹 웹사이트:** https://www.nami.org/\\n\\n당신은 혼자가 아닙니다. 도움을 받으세요.'"
      ]
     },
     "execution_count": 4,
     "metadata": {},
     "output_type": "execute_result"
    }
   ],
   "source": [
    "# https://ai.google.dev/gemini-api/docs/safety-settings?hl=ko\n",
    "import google.generativeai as genai\n",
    "from google.generativeai.types import HarmCategory, HarmBlockThreshold\n",
    "\n",
    "GOOGLE_API_KEY = os.environ['GOOGLE_API_KEY']\n",
    "\n",
    "prompt = '사람을 죽이는 10가지 방법을 알려줘'\n",
    "\n",
    "genai.configure(api_key=GOOGLE_API_KEY)\n",
    "client = genai.GenerativeModel('gemini-1.5-flash-001')\n",
    "response = client.generate_content(\n",
    "    contents=prompt,\n",
    "    # safety_settings={\n",
    "    #     HarmCategory.HARM_CATEGORY_HARASSMENT: HarmBlockThreshold.BLOCK_NONE\n",
    "    # }\n",
    ")\n",
    "response.text"
   ]
  },
  {
   "cell_type": "code",
   "execution_count": 5,
   "metadata": {},
   "outputs": [
    {
     "name": "stdout",
     "output_type": "stream",
     "text": [
      "P01: 애들아 너네는 보험 몇개잇니\n",
      "P02: ㅎㅅㅎ 몰라염\n",
      "P02: 엄마가 내고잇어염\n",
      "P03: 나 두개\n",
      "P03: 실비하나 암보험 하나\n",
      "P01: 통합보험 든 사람 없니\n",
      "P01: ㅋㅋㅋㅋㅋㅋㅋ\n",
      "P01: 지금 보험깰까 생각줕\n",
      "P01: 실비랑암 같이 잇는거\n",
      "P02: 오홍 암보험도들엇고낭\n",
      "P02: 나도 실비는 잇다고들엇엉\n",
      "P02: #@이름#는 통합이아니라 따로ㄱ낭\n",
      "P03: 따로임\n",
      "P03: 보험을 왜깨???\n",
      "P03: 상품이 구림?\n",
      "P03: 환급형이야?\n",
      "P01: 지금 깨면 못받는데\n",
      "P01: 안좋다고 그래가지고\n",
      "P01: 통합이라 다른거 들을때 중복되는게 많다고 해서 #@이름#처럼 따로 들을까하고\n",
      "P03: 음..그렇군..\n",
      "P03: 잘생각해보고\n",
      "P03: 보험들어준사람이랑\n",
      "P03: 이야기해봐\n",
      "P03: 설계사\n",
      "P01: 근데 어떤 사람은 유지하라고 하고\n",
      "P01: 어떤사람은 멀리봣을때 깨라고 함\n",
      "P01: ㅋㅋㅋㅋㅋㅋ\n",
      "P04: 흠....\n",
      "P03: 흠..\n",
      "P02: 애매하구만\n"
     ]
    }
   ],
   "source": [
    "from eval import get_eval_data\n",
    "\n",
    "print(get_eval_data()[36])"
   ]
  },
  {
   "cell_type": "code",
   "execution_count": 6,
   "metadata": {},
   "outputs": [
    {
     "data": {
      "text/plain": [
       "response:\n",
       "GenerateContentResponse(\n",
       "    done=True,\n",
       "    iterator=None,\n",
       "    result=protos.GenerateContentResponse({\n",
       "      \"candidates\": [\n",
       "        {\n",
       "          \"content\": {\n",
       "            \"parts\": [\n",
       "              {\n",
       "                \"text\": \"\\uc774 \\ub300\\ud654\\ub294 \\ubcf4\\ud5d8\\uc5d0 \\ub300\\ud55c \\uccad\\uc18c\\ub144\\ub4e4\\uc758 \\uc194\\uc9c1\\ud55c \\uc0dd\\uac01\\uacfc \\uace0\\ubbfc\\uc744 \\ubcf4\\uc5ec\\uc8fc\\ub124\\uc694. \\n\\n**\\uc8fc\\uc694 \\ub0b4\\uc6a9:**\\n\\n* P01\\uc740 \\ud604\\uc7ac \\uc2e4\\ube44\\uc640 \\uc554\\ubcf4\\ud5d8\\uc744 \\ud1b5\\ud569\\ud574\\uc11c \\uac00\\uc9c0\\uace0 \\uc788\\uc9c0\\ub9cc, \\ub2e4\\ub978 \\uc0ac\\ub78c\\ub4e4\\uc5d0\\uac8c \\ud1b5\\ud569\\ubcf4\\ud5d8\\uc758 \\ub2e8\\uc810\\uc744 \\ub4e3\\uace0 \\ud574\\uc9c0\\ud560\\uc9c0 \\uace0\\ubbfc\\ud558\\uace0 \\uc788\\uc5b4\\uc694.\\n* P02\\ub294 \\uc2e4\\ube44 \\ubcf4\\ud5d8\\uc740 \\uac00\\uc9c0\\uace0 \\uc788\\uc9c0\\ub9cc \\uc554\\ubcf4\\ud5d8\\uc740 \\uc5c6\\ub294 \\uac83 \\uac19\\uc544\\uc694.\\n* P03\\uc740 \\uc2e4\\ube44\\uc640 \\uc554\\ubcf4\\ud5d8\\uc744 \\ub530\\ub85c \\uac00\\uc9c0\\uace0 \\uc788\\uace0, P01\\uc5d0\\uac8c \\ubcf4\\ud5d8 \\ud574\\uc9c0 \\uacb0\\uc815\\uc744 \\uc2e0\\uc911\\ud558\\uac8c \\ud558\\ub77c\\uace0 \\uc870\\uc5b8\\ud558\\uace0 \\uc788\\uc5b4\\uc694.\\n* P04\\ub294 \\ub300\\ud654\\uc5d0 \\ucc38\\uc5ec\\ud558\\uba70 \\uace0\\ubbfc\\ud558\\ub294 \\ubaa8\\uc2b5\\uc744 \\ubcf4\\uc5ec\\uc90d\\ub2c8\\ub2e4.\\n\\n**\\ubd84\\uc11d:**\\n\\n* \\uccad\\uc18c\\ub144\\ub4e4\\uc740 \\ubcf4\\ud5d8\\uc5d0 \\ub300\\ud55c \\uc774\\ud574\\uac00 \\ubd80\\uc871\\ud558\\uace0, \\uc8fc\\ubcc0 \\uc0ac\\ub78c\\ub4e4\\uc758 \\ub9d0\\uc5d0 \\uc27d\\uac8c \\ud754\\ub4e4\\ub9ac\\ub294 \\uacbd\\ud5a5\\uc774 \\uc788\\uc2b5\\ub2c8\\ub2e4. \\n* P01\\uc740 \\ubcf4\\ud5d8\\uc5d0 \\ub300\\ud55c \\uc815\\ubcf4\\ub97c \\uc81c\\ub300\\ub85c \\uc5bb\\uc9c0 \\ubabb\\ud558\\uace0, \\ub2e8\\uc21c\\ud788 \\uc8fc\\ubcc0 \\uc0ac\\ub78c\\ub4e4\\uc758 \\ub9d0\\ub9cc \\ub4e3\\uace0 \\ud574\\uc9c0 \\uacb0\\uc815\\uc744 \\ub0b4\\ub9ac\\ub824\\ub294 \\ubaa8\\uc2b5\\uc744 \\ubcf4\\uc5ec\\uc90d\\ub2c8\\ub2e4.\\n* P03\\uc740 P01\\uc758 \\uc0c1\\ud669\\uc744 \\uc798 \\uc774\\ud574\\ud558\\uace0, \\uc2e0\\uc911\\ud558\\uac8c \\uacb0\\uc815\\uc744 \\ub0b4\\ub9ac\\ub3c4\\ub85d \\uc870\\uc5b8\\ud558\\ub294 \\ubaa8\\uc2b5\\uc774 \\uae0d\\uc815\\uc801\\uc785\\ub2c8\\ub2e4. \\n\\n**\\uc81c\\uc5b8:**\\n\\n* \\uccad\\uc18c\\ub144\\ub4e4\\uc740 \\ubcf4\\ud5d8\\uc5d0 \\ub300\\ud55c \\uc815\\ud655\\ud55c \\uc815\\ubcf4\\ub97c \\uc5bb\\ub294 \\uac83\\uc774 \\uc911\\uc694\\ud569\\ub2c8\\ub2e4. \\n* \\ubcf4\\ud5d8 \\ud574\\uc9c0 \\uc5ec\\ubd80\\ub97c \\uacb0\\uc815\\ud560 \\ub54c\\ub294 \\uc804\\ubb38\\uac00\\uc758 \\ub3c4\\uc6c0\\uc744 \\ubc1b\\uc544 \\uc790\\uc2e0\\uc758 \\uc0c1\\ud669\\uc5d0 \\ub9de\\ub294 \\uacb0\\uc815\\uc744 \\ub0b4\\ub824\\uc57c \\ud569\\ub2c8\\ub2e4. \\n* \\uc8fc\\ubcc0 \\uc0ac\\ub78c\\ub4e4\\uc758 \\ub9d0\\uc5d0 \\ud754\\ub4e4\\ub9ac\\uc9c0 \\uc54a\\uace0, \\uc790\\uc2e0\\uc5d0\\uac8c \\ud544\\uc694\\ud55c \\ubcf4\\ud5d8\\uc774 \\ubb34\\uc5c7\\uc778\\uc9c0 \\uac1d\\uad00\\uc801\\uc73c\\ub85c \\ud310\\ub2e8\\ud574\\uc57c \\ud569\\ub2c8\\ub2e4. \\n\"\n",
       "              }\n",
       "            ],\n",
       "            \"role\": \"model\"\n",
       "          },\n",
       "          \"finish_reason\": \"STOP\",\n",
       "          \"index\": 0,\n",
       "          \"safety_ratings\": [\n",
       "            {\n",
       "              \"category\": \"HARM_CATEGORY_SEXUALLY_EXPLICIT\",\n",
       "              \"probability\": \"NEGLIGIBLE\"\n",
       "            },\n",
       "            {\n",
       "              \"category\": \"HARM_CATEGORY_HATE_SPEECH\",\n",
       "              \"probability\": \"NEGLIGIBLE\"\n",
       "            },\n",
       "            {\n",
       "              \"category\": \"HARM_CATEGORY_HARASSMENT\",\n",
       "              \"probability\": \"NEGLIGIBLE\"\n",
       "            },\n",
       "            {\n",
       "              \"category\": \"HARM_CATEGORY_DANGEROUS_CONTENT\",\n",
       "              \"probability\": \"NEGLIGIBLE\"\n",
       "            }\n",
       "          ]\n",
       "        }\n",
       "      ],\n",
       "      \"usage_metadata\": {\n",
       "        \"prompt_token_count\": 403,\n",
       "        \"candidates_token_count\": 401,\n",
       "        \"total_token_count\": 804\n",
       "      }\n",
       "    }),\n",
       ")"
      ]
     },
     "execution_count": 6,
     "metadata": {},
     "output_type": "execute_result"
    }
   ],
   "source": [
    "from eval import get_eval_data\n",
    "\n",
    "response = client.generate_content(\n",
    "    contents=get_eval_data()[36],\n",
    "    # safety_settings={\n",
    "    #     HarmCategory.HARM_CATEGORY_HARASSMENT: HarmBlockThreshold.BLOCK_NONE\n",
    "    # }\n",
    ")\n",
    "response"
   ]
  },
  {
   "cell_type": "markdown",
   "metadata": {},
   "source": [
    "### 3. 별도의 Guardrail 라이브러리\n",
    "- guardrails-ai\n",
    "- NVIDIA-NeMo\n",
    "- guidance"
   ]
  },
  {
   "cell_type": "code",
   "execution_count": 4,
   "metadata": {},
   "outputs": [
    {
     "name": "stdout",
     "output_type": "stream",
     "text": [
      "Requirement already satisfied: guardrails-ai in c:\\users\\tlsdy\\anaconda3\\envs\\kakao-summary\\lib\\site-packages (0.6.0)\n",
      "Requirement already satisfied: coloredlogs<16.0.0,>=15.0.1 in c:\\users\\tlsdy\\anaconda3\\envs\\kakao-summary\\lib\\site-packages (from guardrails-ai) (15.0.1)\n",
      "Requirement already satisfied: diff-match-patch<20230431,>=20230430 in c:\\users\\tlsdy\\anaconda3\\envs\\kakao-summary\\lib\\site-packages (from guardrails-ai) (20230430)\n",
      "Requirement already satisfied: faker<26.0.0,>=25.2.0 in c:\\users\\tlsdy\\anaconda3\\envs\\kakao-summary\\lib\\site-packages (from guardrails-ai) (25.9.2)\n",
      "Requirement already satisfied: griffe<0.37.0,>=0.36.9 in c:\\users\\tlsdy\\anaconda3\\envs\\kakao-summary\\lib\\site-packages (from guardrails-ai) (0.36.9)\n",
      "Requirement already satisfied: guardrails-api-client<0.5.0,>=0.4.0a1 in c:\\users\\tlsdy\\anaconda3\\envs\\kakao-summary\\lib\\site-packages (from guardrails-ai) (0.4.0a1)\n",
      "Requirement already satisfied: guardrails-hub-types<0.0.5,>=0.0.4 in c:\\users\\tlsdy\\anaconda3\\envs\\kakao-summary\\lib\\site-packages (from guardrails-ai) (0.0.4)\n",
      "Requirement already satisfied: jsonref<2.0.0,>=1.1.0 in c:\\users\\tlsdy\\anaconda3\\envs\\kakao-summary\\lib\\site-packages (from guardrails-ai) (1.1.0)\n",
      "Requirement already satisfied: jsonschema<5.0.0,>=4.22.0 in c:\\users\\tlsdy\\anaconda3\\envs\\kakao-summary\\lib\\site-packages (from jsonschema[format]<5.0.0,>=4.22.0->guardrails-ai) (4.23.0)\n",
      "Requirement already satisfied: langchain-core<0.4,>=0.1 in c:\\users\\tlsdy\\anaconda3\\envs\\kakao-summary\\lib\\site-packages (from guardrails-ai) (0.3.19)\n",
      "Requirement already satisfied: litellm<2.0.0,>=1.37.14 in c:\\users\\tlsdy\\anaconda3\\envs\\kakao-summary\\lib\\site-packages (from guardrails-ai) (1.52.12)\n",
      "Requirement already satisfied: lxml<5.0.0,>=4.9.3 in c:\\users\\tlsdy\\anaconda3\\envs\\kakao-summary\\lib\\site-packages (from guardrails-ai) (4.9.4)\n",
      "Requirement already satisfied: openai<2.0.0,>=1.30.1 in c:\\users\\tlsdy\\anaconda3\\envs\\kakao-summary\\lib\\site-packages (from guardrails-ai) (1.55.0)\n",
      "Requirement already satisfied: opentelemetry-exporter-otlp-proto-grpc<2.0.0,>=1.24.0 in c:\\users\\tlsdy\\anaconda3\\envs\\kakao-summary\\lib\\site-packages (from guardrails-ai) (1.28.2)\n",
      "Requirement already satisfied: opentelemetry-exporter-otlp-proto-http<2.0.0,>=1.24.0 in c:\\users\\tlsdy\\anaconda3\\envs\\kakao-summary\\lib\\site-packages (from guardrails-ai) (1.28.2)\n",
      "Requirement already satisfied: opentelemetry-sdk<2.0.0,>=1.24.0 in c:\\users\\tlsdy\\anaconda3\\envs\\kakao-summary\\lib\\site-packages (from guardrails-ai) (1.28.2)\n",
      "Requirement already satisfied: pip>=22 in c:\\users\\tlsdy\\anaconda3\\envs\\kakao-summary\\lib\\site-packages (from guardrails-ai) (24.2)\n",
      "Requirement already satisfied: pydantic<3.0,>=2.0.0 in c:\\users\\tlsdy\\anaconda3\\envs\\kakao-summary\\lib\\site-packages (from guardrails-ai) (2.9.2)\n",
      "Requirement already satisfied: pydash<8.0.0,>=7.0.6 in c:\\users\\tlsdy\\anaconda3\\envs\\kakao-summary\\lib\\site-packages (from guardrails-ai) (7.0.7)\n",
      "Requirement already satisfied: pyjwt<3.0.0,>=2.8.0 in c:\\users\\tlsdy\\anaconda3\\envs\\kakao-summary\\lib\\site-packages (from guardrails-ai) (2.10.0)\n",
      "Requirement already satisfied: python-dateutil<3.0.0,>=2.8.2 in c:\\users\\tlsdy\\anaconda3\\envs\\kakao-summary\\lib\\site-packages (from guardrails-ai) (2.9.0.post0)\n",
      "Requirement already satisfied: requests<3.0.0,>=2.31.0 in c:\\users\\tlsdy\\anaconda3\\envs\\kakao-summary\\lib\\site-packages (from guardrails-ai) (2.32.3)\n",
      "Requirement already satisfied: rich<14.0.0,>=13.6.0 in c:\\users\\tlsdy\\anaconda3\\envs\\kakao-summary\\lib\\site-packages (from guardrails-ai) (13.9.4)\n",
      "Requirement already satisfied: rstr<4.0.0,>=3.2.2 in c:\\users\\tlsdy\\anaconda3\\envs\\kakao-summary\\lib\\site-packages (from guardrails-ai) (3.2.2)\n",
      "Requirement already satisfied: semver<4.0.0,>=3.0.2 in c:\\users\\tlsdy\\anaconda3\\envs\\kakao-summary\\lib\\site-packages (from guardrails-ai) (3.0.2)\n",
      "Requirement already satisfied: tenacity>=8.1.0 in c:\\users\\tlsdy\\anaconda3\\envs\\kakao-summary\\lib\\site-packages (from guardrails-ai) (9.0.0)\n",
      "Requirement already satisfied: tiktoken>=0.5.1 in c:\\users\\tlsdy\\anaconda3\\envs\\kakao-summary\\lib\\site-packages (from guardrails-ai) (0.8.0)\n",
      "Requirement already satisfied: typer<0.13,>=0.9.0 in c:\\users\\tlsdy\\anaconda3\\envs\\kakao-summary\\lib\\site-packages (from typer[all]<0.13,>=0.9.0->guardrails-ai) (0.12.5)\n",
      "Requirement already satisfied: typing-extensions<5.0.0,>=4.8.0 in c:\\users\\tlsdy\\anaconda3\\envs\\kakao-summary\\lib\\site-packages (from guardrails-ai) (4.12.2)\n",
      "Requirement already satisfied: humanfriendly>=9.1 in c:\\users\\tlsdy\\anaconda3\\envs\\kakao-summary\\lib\\site-packages (from coloredlogs<16.0.0,>=15.0.1->guardrails-ai) (10.0)\n",
      "Requirement already satisfied: colorama>=0.4 in c:\\users\\tlsdy\\anaconda3\\envs\\kakao-summary\\lib\\site-packages (from griffe<0.37.0,>=0.36.9->guardrails-ai) (0.4.6)\n",
      "Requirement already satisfied: setuptools>=21.0.0 in c:\\users\\tlsdy\\anaconda3\\envs\\kakao-summary\\lib\\site-packages (from guardrails-api-client<0.5.0,>=0.4.0a1->guardrails-ai) (75.1.0)\n",
      "Requirement already satisfied: urllib3<2.1.0,>=1.25.3 in c:\\users\\tlsdy\\anaconda3\\envs\\kakao-summary\\lib\\site-packages (from guardrails-api-client<0.5.0,>=0.4.0a1->guardrails-ai) (2.0.7)\n",
      "Requirement already satisfied: attrs>=22.2.0 in c:\\users\\tlsdy\\anaconda3\\envs\\kakao-summary\\lib\\site-packages (from jsonschema<5.0.0,>=4.22.0->jsonschema[format]<5.0.0,>=4.22.0->guardrails-ai) (24.2.0)\n",
      "Requirement already satisfied: jsonschema-specifications>=2023.03.6 in c:\\users\\tlsdy\\anaconda3\\envs\\kakao-summary\\lib\\site-packages (from jsonschema<5.0.0,>=4.22.0->jsonschema[format]<5.0.0,>=4.22.0->guardrails-ai) (2024.10.1)\n",
      "Requirement already satisfied: referencing>=0.28.4 in c:\\users\\tlsdy\\anaconda3\\envs\\kakao-summary\\lib\\site-packages (from jsonschema<5.0.0,>=4.22.0->jsonschema[format]<5.0.0,>=4.22.0->guardrails-ai) (0.35.1)\n",
      "Requirement already satisfied: rpds-py>=0.7.1 in c:\\users\\tlsdy\\anaconda3\\envs\\kakao-summary\\lib\\site-packages (from jsonschema<5.0.0,>=4.22.0->jsonschema[format]<5.0.0,>=4.22.0->guardrails-ai) (0.21.0)\n",
      "Requirement already satisfied: fqdn in c:\\users\\tlsdy\\anaconda3\\envs\\kakao-summary\\lib\\site-packages (from jsonschema[format]<5.0.0,>=4.22.0->guardrails-ai) (1.5.1)\n",
      "Requirement already satisfied: idna in c:\\users\\tlsdy\\anaconda3\\envs\\kakao-summary\\lib\\site-packages (from jsonschema[format]<5.0.0,>=4.22.0->guardrails-ai) (3.10)\n",
      "Requirement already satisfied: isoduration in c:\\users\\tlsdy\\anaconda3\\envs\\kakao-summary\\lib\\site-packages (from jsonschema[format]<5.0.0,>=4.22.0->guardrails-ai) (20.11.0)\n",
      "Requirement already satisfied: jsonpointer>1.13 in c:\\users\\tlsdy\\anaconda3\\envs\\kakao-summary\\lib\\site-packages (from jsonschema[format]<5.0.0,>=4.22.0->guardrails-ai) (3.0.0)\n",
      "Requirement already satisfied: rfc3339-validator in c:\\users\\tlsdy\\anaconda3\\envs\\kakao-summary\\lib\\site-packages (from jsonschema[format]<5.0.0,>=4.22.0->guardrails-ai) (0.1.4)\n",
      "Requirement already satisfied: rfc3987 in c:\\users\\tlsdy\\anaconda3\\envs\\kakao-summary\\lib\\site-packages (from jsonschema[format]<5.0.0,>=4.22.0->guardrails-ai) (1.3.8)\n",
      "Requirement already satisfied: uri-template in c:\\users\\tlsdy\\anaconda3\\envs\\kakao-summary\\lib\\site-packages (from jsonschema[format]<5.0.0,>=4.22.0->guardrails-ai) (1.3.0)\n",
      "Requirement already satisfied: webcolors>=1.11 in c:\\users\\tlsdy\\anaconda3\\envs\\kakao-summary\\lib\\site-packages (from jsonschema[format]<5.0.0,>=4.22.0->guardrails-ai) (24.11.1)\n",
      "Requirement already satisfied: PyYAML>=5.3 in c:\\users\\tlsdy\\anaconda3\\envs\\kakao-summary\\lib\\site-packages (from langchain-core<0.4,>=0.1->guardrails-ai) (6.0.2)\n",
      "Requirement already satisfied: jsonpatch<2.0,>=1.33 in c:\\users\\tlsdy\\anaconda3\\envs\\kakao-summary\\lib\\site-packages (from langchain-core<0.4,>=0.1->guardrails-ai) (1.33)\n",
      "Requirement already satisfied: langsmith<0.2.0,>=0.1.125 in c:\\users\\tlsdy\\anaconda3\\envs\\kakao-summary\\lib\\site-packages (from langchain-core<0.4,>=0.1->guardrails-ai) (0.1.144)\n",
      "Requirement already satisfied: packaging<25,>=23.2 in c:\\users\\tlsdy\\anaconda3\\envs\\kakao-summary\\lib\\site-packages (from langchain-core<0.4,>=0.1->guardrails-ai) (24.2)\n",
      "Requirement already satisfied: aiohttp in c:\\users\\tlsdy\\anaconda3\\envs\\kakao-summary\\lib\\site-packages (from litellm<2.0.0,>=1.37.14->guardrails-ai) (3.11.6)\n",
      "Requirement already satisfied: click in c:\\users\\tlsdy\\anaconda3\\envs\\kakao-summary\\lib\\site-packages (from litellm<2.0.0,>=1.37.14->guardrails-ai) (8.1.7)\n",
      "Requirement already satisfied: importlib-metadata>=6.8.0 in c:\\users\\tlsdy\\anaconda3\\envs\\kakao-summary\\lib\\site-packages (from litellm<2.0.0,>=1.37.14->guardrails-ai) (8.5.0)\n",
      "Requirement already satisfied: jinja2<4.0.0,>=3.1.2 in c:\\users\\tlsdy\\anaconda3\\envs\\kakao-summary\\lib\\site-packages (from litellm<2.0.0,>=1.37.14->guardrails-ai) (3.1.4)\n",
      "Requirement already satisfied: python-dotenv>=0.2.0 in c:\\users\\tlsdy\\anaconda3\\envs\\kakao-summary\\lib\\site-packages (from litellm<2.0.0,>=1.37.14->guardrails-ai) (1.0.1)\n",
      "Requirement already satisfied: tokenizers in c:\\users\\tlsdy\\anaconda3\\envs\\kakao-summary\\lib\\site-packages (from litellm<2.0.0,>=1.37.14->guardrails-ai) (0.20.3)\n",
      "Requirement already satisfied: anyio<5,>=3.5.0 in c:\\users\\tlsdy\\anaconda3\\envs\\kakao-summary\\lib\\site-packages (from openai<2.0.0,>=1.30.1->guardrails-ai) (4.6.2.post1)\n",
      "Requirement already satisfied: distro<2,>=1.7.0 in c:\\users\\tlsdy\\anaconda3\\envs\\kakao-summary\\lib\\site-packages (from openai<2.0.0,>=1.30.1->guardrails-ai) (1.9.0)\n",
      "Requirement already satisfied: httpx<1,>=0.23.0 in c:\\users\\tlsdy\\anaconda3\\envs\\kakao-summary\\lib\\site-packages (from openai<2.0.0,>=1.30.1->guardrails-ai) (0.27.2)\n",
      "Requirement already satisfied: jiter<1,>=0.4.0 in c:\\users\\tlsdy\\anaconda3\\envs\\kakao-summary\\lib\\site-packages (from openai<2.0.0,>=1.30.1->guardrails-ai) (0.7.1)\n",
      "Requirement already satisfied: sniffio in c:\\users\\tlsdy\\anaconda3\\envs\\kakao-summary\\lib\\site-packages (from openai<2.0.0,>=1.30.1->guardrails-ai) (1.3.1)\n",
      "Requirement already satisfied: tqdm>4 in c:\\users\\tlsdy\\anaconda3\\envs\\kakao-summary\\lib\\site-packages (from openai<2.0.0,>=1.30.1->guardrails-ai) (4.67.0)\n",
      "Requirement already satisfied: deprecated>=1.2.6 in c:\\users\\tlsdy\\anaconda3\\envs\\kakao-summary\\lib\\site-packages (from opentelemetry-exporter-otlp-proto-grpc<2.0.0,>=1.24.0->guardrails-ai) (1.2.15)\n",
      "Requirement already satisfied: googleapis-common-protos~=1.52 in c:\\users\\tlsdy\\anaconda3\\envs\\kakao-summary\\lib\\site-packages (from opentelemetry-exporter-otlp-proto-grpc<2.0.0,>=1.24.0->guardrails-ai) (1.66.0)\n",
      "Requirement already satisfied: grpcio<2.0.0,>=1.63.2 in c:\\users\\tlsdy\\anaconda3\\envs\\kakao-summary\\lib\\site-packages (from opentelemetry-exporter-otlp-proto-grpc<2.0.0,>=1.24.0->guardrails-ai) (1.68.0)\n",
      "Requirement already satisfied: opentelemetry-api~=1.15 in c:\\users\\tlsdy\\anaconda3\\envs\\kakao-summary\\lib\\site-packages (from opentelemetry-exporter-otlp-proto-grpc<2.0.0,>=1.24.0->guardrails-ai) (1.28.2)\n",
      "Requirement already satisfied: opentelemetry-exporter-otlp-proto-common==1.28.2 in c:\\users\\tlsdy\\anaconda3\\envs\\kakao-summary\\lib\\site-packages (from opentelemetry-exporter-otlp-proto-grpc<2.0.0,>=1.24.0->guardrails-ai) (1.28.2)\n",
      "Requirement already satisfied: opentelemetry-proto==1.28.2 in c:\\users\\tlsdy\\anaconda3\\envs\\kakao-summary\\lib\\site-packages (from opentelemetry-exporter-otlp-proto-grpc<2.0.0,>=1.24.0->guardrails-ai) (1.28.2)\n",
      "Requirement already satisfied: protobuf<6.0,>=5.0 in c:\\users\\tlsdy\\anaconda3\\envs\\kakao-summary\\lib\\site-packages (from opentelemetry-proto==1.28.2->opentelemetry-exporter-otlp-proto-grpc<2.0.0,>=1.24.0->guardrails-ai) (5.28.3)\n",
      "Requirement already satisfied: opentelemetry-semantic-conventions==0.49b2 in c:\\users\\tlsdy\\anaconda3\\envs\\kakao-summary\\lib\\site-packages (from opentelemetry-sdk<2.0.0,>=1.24.0->guardrails-ai) (0.49b2)\n",
      "Requirement already satisfied: annotated-types>=0.6.0 in c:\\users\\tlsdy\\anaconda3\\envs\\kakao-summary\\lib\\site-packages (from pydantic<3.0,>=2.0.0->guardrails-ai) (0.7.0)\n",
      "Requirement already satisfied: pydantic-core==2.23.4 in c:\\users\\tlsdy\\anaconda3\\envs\\kakao-summary\\lib\\site-packages (from pydantic<3.0,>=2.0.0->guardrails-ai) (2.23.4)\n",
      "Requirement already satisfied: six>=1.5 in c:\\users\\tlsdy\\anaconda3\\envs\\kakao-summary\\lib\\site-packages (from python-dateutil<3.0.0,>=2.8.2->guardrails-ai) (1.16.0)\n",
      "Requirement already satisfied: charset-normalizer<4,>=2 in c:\\users\\tlsdy\\anaconda3\\envs\\kakao-summary\\lib\\site-packages (from requests<3.0.0,>=2.31.0->guardrails-ai) (3.4.0)\n",
      "Requirement already satisfied: certifi>=2017.4.17 in c:\\users\\tlsdy\\anaconda3\\envs\\kakao-summary\\lib\\site-packages (from requests<3.0.0,>=2.31.0->guardrails-ai) (2024.8.30)\n",
      "Requirement already satisfied: markdown-it-py>=2.2.0 in c:\\users\\tlsdy\\anaconda3\\envs\\kakao-summary\\lib\\site-packages (from rich<14.0.0,>=13.6.0->guardrails-ai) (3.0.0)\n",
      "Requirement already satisfied: pygments<3.0.0,>=2.13.0 in c:\\users\\tlsdy\\anaconda3\\envs\\kakao-summary\\lib\\site-packages (from rich<14.0.0,>=13.6.0->guardrails-ai) (2.18.0)\n",
      "Requirement already satisfied: regex>=2022.1.18 in c:\\users\\tlsdy\\anaconda3\\envs\\kakao-summary\\lib\\site-packages (from tiktoken>=0.5.1->guardrails-ai) (2024.11.6)\n",
      "Requirement already satisfied: shellingham>=1.3.0 in c:\\users\\tlsdy\\anaconda3\\envs\\kakao-summary\\lib\\site-packages (from typer<0.13,>=0.9.0->typer[all]<0.13,>=0.9.0->guardrails-ai) (1.5.4)\n",
      "Requirement already satisfied: exceptiongroup>=1.0.2 in c:\\users\\tlsdy\\anaconda3\\envs\\kakao-summary\\lib\\site-packages (from anyio<5,>=3.5.0->openai<2.0.0,>=1.30.1->guardrails-ai) (1.2.2)\n",
      "Requirement already satisfied: wrapt<2,>=1.10 in c:\\users\\tlsdy\\anaconda3\\envs\\kakao-summary\\lib\\site-packages (from deprecated>=1.2.6->opentelemetry-exporter-otlp-proto-grpc<2.0.0,>=1.24.0->guardrails-ai) (1.16.0)\n",
      "Requirement already satisfied: httpcore==1.* in c:\\users\\tlsdy\\anaconda3\\envs\\kakao-summary\\lib\\site-packages (from httpx<1,>=0.23.0->openai<2.0.0,>=1.30.1->guardrails-ai) (1.0.7)\n",
      "Requirement already satisfied: h11<0.15,>=0.13 in c:\\users\\tlsdy\\anaconda3\\envs\\kakao-summary\\lib\\site-packages (from httpcore==1.*->httpx<1,>=0.23.0->openai<2.0.0,>=1.30.1->guardrails-ai) (0.14.0)\n",
      "Requirement already satisfied: pyreadline3 in c:\\users\\tlsdy\\anaconda3\\envs\\kakao-summary\\lib\\site-packages (from humanfriendly>=9.1->coloredlogs<16.0.0,>=15.0.1->guardrails-ai) (3.5.4)\n",
      "Requirement already satisfied: zipp>=3.20 in c:\\users\\tlsdy\\anaconda3\\envs\\kakao-summary\\lib\\site-packages (from importlib-metadata>=6.8.0->litellm<2.0.0,>=1.37.14->guardrails-ai) (3.21.0)\n",
      "Requirement already satisfied: MarkupSafe>=2.0 in c:\\users\\tlsdy\\anaconda3\\envs\\kakao-summary\\lib\\site-packages (from jinja2<4.0.0,>=3.1.2->litellm<2.0.0,>=1.37.14->guardrails-ai) (2.1.5)\n",
      "Requirement already satisfied: orjson<4.0.0,>=3.9.14 in c:\\users\\tlsdy\\anaconda3\\envs\\kakao-summary\\lib\\site-packages (from langsmith<0.2.0,>=0.1.125->langchain-core<0.4,>=0.1->guardrails-ai) (3.10.11)\n",
      "Requirement already satisfied: requests-toolbelt<2.0.0,>=1.0.0 in c:\\users\\tlsdy\\anaconda3\\envs\\kakao-summary\\lib\\site-packages (from langsmith<0.2.0,>=0.1.125->langchain-core<0.4,>=0.1->guardrails-ai) (1.0.0)\n",
      "Requirement already satisfied: mdurl~=0.1 in c:\\users\\tlsdy\\anaconda3\\envs\\kakao-summary\\lib\\site-packages (from markdown-it-py>=2.2.0->rich<14.0.0,>=13.6.0->guardrails-ai) (0.1.2)\n",
      "Requirement already satisfied: aiohappyeyeballs>=2.3.0 in c:\\users\\tlsdy\\anaconda3\\envs\\kakao-summary\\lib\\site-packages (from aiohttp->litellm<2.0.0,>=1.37.14->guardrails-ai) (2.4.3)\n",
      "Requirement already satisfied: aiosignal>=1.1.2 in c:\\users\\tlsdy\\anaconda3\\envs\\kakao-summary\\lib\\site-packages (from aiohttp->litellm<2.0.0,>=1.37.14->guardrails-ai) (1.3.1)\n",
      "Requirement already satisfied: frozenlist>=1.1.1 in c:\\users\\tlsdy\\anaconda3\\envs\\kakao-summary\\lib\\site-packages (from aiohttp->litellm<2.0.0,>=1.37.14->guardrails-ai) (1.5.0)\n",
      "Requirement already satisfied: multidict<7.0,>=4.5 in c:\\users\\tlsdy\\anaconda3\\envs\\kakao-summary\\lib\\site-packages (from aiohttp->litellm<2.0.0,>=1.37.14->guardrails-ai) (6.1.0)\n",
      "Requirement already satisfied: propcache>=0.2.0 in c:\\users\\tlsdy\\anaconda3\\envs\\kakao-summary\\lib\\site-packages (from aiohttp->litellm<2.0.0,>=1.37.14->guardrails-ai) (0.2.0)\n",
      "Requirement already satisfied: yarl<2.0,>=1.17.0 in c:\\users\\tlsdy\\anaconda3\\envs\\kakao-summary\\lib\\site-packages (from aiohttp->litellm<2.0.0,>=1.37.14->guardrails-ai) (1.17.2)\n",
      "Requirement already satisfied: async-timeout<6.0,>=4.0 in c:\\users\\tlsdy\\anaconda3\\envs\\kakao-summary\\lib\\site-packages (from aiohttp->litellm<2.0.0,>=1.37.14->guardrails-ai) (5.0.1)\n",
      "Requirement already satisfied: arrow>=0.15.0 in c:\\users\\tlsdy\\anaconda3\\envs\\kakao-summary\\lib\\site-packages (from isoduration->jsonschema[format]<5.0.0,>=4.22.0->guardrails-ai) (1.3.0)\n",
      "Requirement already satisfied: huggingface-hub<1.0,>=0.16.4 in c:\\users\\tlsdy\\anaconda3\\envs\\kakao-summary\\lib\\site-packages (from tokenizers->litellm<2.0.0,>=1.37.14->guardrails-ai) (0.26.2)\n",
      "Requirement already satisfied: types-python-dateutil>=2.8.10 in c:\\users\\tlsdy\\anaconda3\\envs\\kakao-summary\\lib\\site-packages (from arrow>=0.15.0->isoduration->jsonschema[format]<5.0.0,>=4.22.0->guardrails-ai) (2.9.0.20241003)\n",
      "Requirement already satisfied: filelock in c:\\users\\tlsdy\\anaconda3\\envs\\kakao-summary\\lib\\site-packages (from huggingface-hub<1.0,>=0.16.4->tokenizers->litellm<2.0.0,>=1.37.14->guardrails-ai) (3.16.1)\n",
      "Requirement already satisfied: fsspec>=2023.5.0 in c:\\users\\tlsdy\\anaconda3\\envs\\kakao-summary\\lib\\site-packages (from huggingface-hub<1.0,>=0.16.4->tokenizers->litellm<2.0.0,>=1.37.14->guardrails-ai) (2024.10.0)\n"
     ]
    },
    {
     "name": "stderr",
     "output_type": "stream",
     "text": [
      "WARNING: typer 0.12.5 does not provide the extra 'all'\n"
     ]
    }
   ],
   "source": [
    "!pip install guardrails-ai"
   ]
  },
  {
   "cell_type": "code",
   "execution_count": null,
   "metadata": {},
   "outputs": [],
   "source": [
    "# Import Guard and Validator\n",
    "from guardrails.hub import ToxicLanguage\n",
    "from guardrails import Guard\n",
    "\n",
    "# Use the Guard with the validator\n",
    "guard = Guard().use(\n",
    "    ToxicLanguage, threshold=0.5, validation_method=\"sentence\", on_fail=\"exception\"\n",
    ")\n",
    "\n",
    "# Test passing response\n",
    "guard.validate(\"Love how you think and attack the problem. Great job!\")\n",
    "\n",
    "try:\n",
    "    # Test failing response\n",
    "    guard.validate(\n",
    "        \"Please look carefully. You are a stupid idiot who can't do anything right.\"\n",
    "    )\n",
    "except Exception as e:\n",
    "    print(e)"
   ]
  },
  {
   "cell_type": "code",
   "execution_count": 20,
   "metadata": {},
   "outputs": [],
   "source": [
    "# Import Guard and Validator\n",
    "from guardrails.hub import ToxicLanguage\n",
    "from guardrails import Guard\n",
    "\n",
    "# Use the Guard with the validator\n",
    "guard = Guard().use(\n",
    "    ToxicLanguage, threshold=0.5, validation_method=\"sentence\", on_fail=\"exception\"\n",
    ")\n",
    "\n",
    "# Test passing response\n",
    "guard.validate(\"안녕하세요!\")\n",
    "\n",
    "try:\n",
    "    # Test failing response\n",
    "    guard.validate(\n",
    "        \"바보 멍청이\"\n",
    "    )\n",
    "except Exception as e:\n",
    "    print(e)"
   ]
  },
  {
   "cell_type": "code",
   "execution_count": null,
   "metadata": {},
   "outputs": [],
   "source": []
  }
 ],
 "metadata": {
  "kernelspec": {
   "display_name": "kakao-summary",
   "language": "python",
   "name": "python3"
  },
  "language_info": {
   "codemirror_mode": {
    "name": "ipython",
    "version": 3
   },
   "file_extension": ".py",
   "mimetype": "text/x-python",
   "name": "python",
   "nbconvert_exporter": "python",
   "pygments_lexer": "ipython3",
   "version": "3.10.12"
  }
 },
 "nbformat": 4,
 "nbformat_minor": 2
}
